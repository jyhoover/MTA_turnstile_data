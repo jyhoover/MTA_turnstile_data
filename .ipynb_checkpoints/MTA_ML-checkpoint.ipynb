{
 "cells": [
  {
   "cell_type": "code",
   "execution_count": null,
   "metadata": {
    "id": "4_YI1oqno1tA"
   },
   "outputs": [],
   "source": [
    "import pandas as pd\n",
    "# import geopandas\n",
    "import numpy as np\n",
    "from scipy import stats\n",
    "import matplotlib\n",
    "import matplotlib.pyplot as plt\n",
    "import seaborn as sns\n",
    "import folium\n",
    "import dill\n",
    "import re\n",
    "import time"
   ]
  },
  {
   "cell_type": "code",
   "execution_count": 110,
   "metadata": {
    "id": "c5h2_gOSZ1dY"
   },
   "outputs": [],
   "source": [
    "from sklearn.base import BaseEstimator, RegressorMixin, TransformerMixin\n",
    "from sklearn.compose import ColumnTransformer\n",
    "from sklearn.ensemble import RandomForestRegressor\n",
    "from sklearn.feature_extraction import DictVectorizer\n",
    "from sklearn.linear_model import Ridge\n",
    "from sklearn.metrics import accuracy_score, r2_score\n",
    "from sklearn.model_selection import train_test_split, GridSearchCV, RandomizedSearchCV\n",
    "from sklearn.neighbors import KNeighborsRegressor, LocalOutlierFactor\n",
    "from sklearn.pipeline import Pipeline, FeatureUnion,TransformerMixin\n",
    "from sklearn.preprocessing import PolynomialFeatures, OneHotEncoder, MaxAbsScaler, minmax_scale, StandardScaler \n",
    "from sklearn.preprocessing import RobustScaler, Normalizer, QuantileTransformer, PowerTransformer\n",
    "from sklearn.utils import shuffle\n",
    "from sklearn.utils.validation import check_X_y, check_array, check_is_fitted"
   ]
  },
  {
   "cell_type": "code",
   "execution_count": null,
   "metadata": {
    "id": "3gr-TLIYo12f"
   },
   "outputs": [],
   "source": [
    "df_station = dill.load(open(folder+'df_station.pkd', 'rb'))"
   ]
  },
  {
   "cell_type": "code",
   "execution_count": null,
   "metadata": {
    "id": "4qDEeRkmo2CZ"
   },
   "outputs": [],
   "source": [
    "df_station.reset_index(inplace=True)"
   ]
  },
  {
   "cell_type": "code",
   "execution_count": null,
   "metadata": {
    "id": "BrKoYYUZo2FZ"
   },
   "outputs": [],
   "source": [
    "df_station.drop(index=0,inplace=True)"
   ]
  },
  {
   "cell_type": "code",
   "execution_count": null,
   "metadata": {
    "id": "u2KB7nryTECV"
   },
   "outputs": [],
   "source": [
    "df_station.reset_index(drop=True,inplace=True)"
   ]
  },
  {
   "cell_type": "code",
   "execution_count": null,
   "metadata": {
    "id": "Dw6jn5r4o17r"
   },
   "outputs": [],
   "source": [
    "df_station_nan = df_station.loc[df_station.isnull().Entries_change]"
   ]
  },
  {
   "cell_type": "code",
   "execution_count": null,
   "metadata": {
    "id": "dXUZA-mUo2H4"
   },
   "outputs": [],
   "source": [
    "# i =300\n",
    "# df_station_nan.iloc[i:i+60]"
   ]
  },
  {
   "cell_type": "code",
   "execution_count": null,
   "metadata": {
    "id": "dX-i6MaqTfY1"
   },
   "outputs": [],
   "source": [
    "df_station_del_na = df_station.loc[~ df_station.isnull().Entries_change]"
   ]
  },
  {
   "cell_type": "code",
   "execution_count": null,
   "metadata": {
    "id": "wzvFAj07ZDFP"
   },
   "outputs": [],
   "source": [
    "df_station_del_na.drop(columns=['Entries_change_hourly','Exits_change_hourly'], inplace=True)"
   ]
  },
  {
   "cell_type": "code",
   "execution_count": null,
   "metadata": {
    "id": "LowLvRm5v5Q4"
   },
   "outputs": [],
   "source": [
    "def interval_code(row):\n",
    "    datepattern = '[0-9][0-9][0-9][0-9]-[0-9][0-9]-[0-9][0-9]'\n",
    "    if re.findall(pattern=datepattern+', ', string=str(row['Timegrp'])):\n",
    "        return 0\n",
    "    elif re.findall(pattern=datepattern+' 04:00:00, ', string=str(row['Timegrp'])):\n",
    "        return 1\n",
    "    elif re.findall(pattern=datepattern+' 08:00:00, ', string=str(row['Timegrp'])):\n",
    "        return 2\n",
    "    elif re.findall(pattern=datepattern+' 12:00:00, ', string=str(row['Timegrp'])):\n",
    "        return 3\n",
    "    elif re.findall(pattern=datepattern+' 16:00:00, ', string=str(row['Timegrp'])):\n",
    "        return 4\n",
    "    elif re.findall(pattern=datepattern+' 20:00:00, ', string=str(row['Timegrp'])):\n",
    "        return 5\n",
    "    return None"
   ]
  },
  {
   "cell_type": "code",
   "execution_count": null,
   "metadata": {
    "id": "kJQSkRlcpTQG"
   },
   "outputs": [],
   "source": [
    "df_station_del_na['interval_code'] = df_station_del_na.apply(lambda row: interval_code(row), axis=1)"
   ]
  },
  {
   "cell_type": "code",
   "execution_count": null,
   "metadata": {
    "id": "2MHpkVoS24th"
   },
   "outputs": [],
   "source": [
    "def weekday_code(row):\n",
    "    d = re.findall(pattern='(?<=\\()[0-9][0-9][0-9][0-9]-[0-9][0-9]-[0-9][0-9]', \n",
    "                   string=str(row['Timegrp']))\n",
    "    return pd.Timestamp(d[0]).weekday()"
   ]
  },
  {
   "cell_type": "code",
   "execution_count": null,
   "metadata": {
    "id": "kkXZ93Ic6MnX"
   },
   "outputs": [],
   "source": [
    "df_station_del_na['weekday_code'] = df_station_del_na.apply(lambda row: weekday_code(row), axis=1)"
   ]
  },
  {
   "cell_type": "code",
   "execution_count": null,
   "metadata": {
    "id": "dQzTIdSnzgH8"
   },
   "outputs": [],
   "source": [
    "df_station_del_na.head(7)"
   ]
  },
  {
   "cell_type": "code",
   "execution_count": null,
   "metadata": {
    "id": "ukZvlz_B8goF"
   },
   "outputs": [],
   "source": [
    "dill.dump(df_station_del_na, open(folder+'df_station_del_na.pkd', 'wb'))"
   ]
  },
  {
   "cell_type": "code",
   "execution_count": null,
   "metadata": {
    "id": "9J7z_04LYMtB"
   },
   "outputs": [],
   "source": [
    "df_station_del_na = dill.load(open(folder+'df_station_del_na.pkd', 'rb'))"
   ]
  },
  {
   "cell_type": "code",
   "execution_count": null,
   "metadata": {
    "id": "s9VKl6y4G0o9"
   },
   "outputs": [],
   "source": [
    "X = df_station_del_na[['Station', 'Entries_change', 'interval_code', 'weekday_code']]\n",
    "y = df_station_del_na['Exits_change']"
   ]
  },
  {
   "cell_type": "code",
   "execution_count": null,
   "metadata": {
    "id": "CHU1GFu9mXS0"
   },
   "outputs": [],
   "source": [
    "df_station_del_na.reset_index(drop=True,inplace=True)"
   ]
  },
  {
   "cell_type": "code",
   "execution_count": null,
   "metadata": {
    "id": "UpQmsHDq6hTs"
   },
   "outputs": [],
   "source": [
    "class OutlierExtractor(TransformerMixin):\n",
    "    def __init__(self, columns, **kwargs):\n",
    "        \"\"\"\n",
    "        Keyword Args:\n",
    "            neg_conf_val (float): The threshold for excluding samples with a lower\n",
    "               negative outlier factor.\n",
    "\n",
    "        Returns:\n",
    "            object: to be used as a transformer method as part of Pipeline()\n",
    "        \"\"\"\n",
    "        self.threshold = kwargs.pop('neg_conf_val', -10.0)\n",
    "        self.columns = columns\n",
    "        self.kwargs = kwargs\n",
    "    \n",
    "    def fit(self, *args, **kwargs):\n",
    "        return self\n",
    "\n",
    "    def transform(self, X, y=None):\n",
    "        \"\"\"\n",
    "        Returns:\n",
    "            ndarray: subsampled data\n",
    "        Notes:\n",
    "            X should be of shape (n_samples, n_features)\n",
    "        \"\"\"\n",
    "        X_ = np.asarray(X[self.columns])\n",
    "        y = np.asarray(y)\n",
    "        lcf = LocalOutlierFactor(**self.kwargs)\n",
    "        lcf.fit(X_)\n",
    "        return (X[lcf.negative_outlier_factor_ > self.threshold, :],\n",
    "                y[lcf.negative_outlier_factor_ > self.threshold])\n",
    "\n"
   ]
  },
  {
   "cell_type": "code",
   "execution_count": 80,
   "metadata": {
    "colab": {
     "base_uri": "https://localhost:8080/",
     "height": 297
    },
    "id": "Y_vNJnfXFl_b",
    "outputId": "f623328e-11e7-4bd9-80cc-019f323a1989"
   },
   "outputs": [
    {
     "data": {
      "text/plain": [
       "<matplotlib.axes._subplots.AxesSubplot at 0x7f1b843b41d0>"
      ]
     },
     "execution_count": 80,
     "metadata": {},
     "output_type": "execute_result"
    },
    {
     "data": {
      "image/png": "[encoded data removed]",
      "text/plain": [
       "<Figure size 432x288 with 1 Axes>"
      ]
     },
     "metadata": {
      "needs_background": "light"
     },
     "output_type": "display_data"
    }
   ],
   "source": [
    "sns.boxplot(x=df_station_del_na['Entries_change'])"
   ]
  },
  {
   "cell_type": "code",
   "execution_count": 103,
   "metadata": {
    "id": "2X6viay5GwGh"
   },
   "outputs": [],
   "source": [
    "q1 = df_station_del_na[['Entries_change', 'Exits_change']].quantile(0.25)\n",
    "q3 = df_station_del_na[['Entries_change', 'Exits_change']].quantile(0.75)\n",
    "IQR = q3- q1\n",
    "df2 = df_station_del_na[ \n",
    "                        (df_station_del_na['Entries_change'] < (q3['Entries_change'] + 1.5 * IQR['Entries_change'])) &\n",
    "                        (df_station_del_na['Exits_change'] < (q3['Exits_change'] + 1.5 * IQR['Exits_change']))]"
   ]
  },
  {
   "cell_type": "code",
   "execution_count": 108,
   "metadata": {
    "colab": {
     "base_uri": "https://localhost:8080/",
     "height": 297
    },
    "id": "UAS2TYNJGv5X",
    "outputId": "f3a57cfc-c285-4cc7-8fa2-8b42d19aed7f"
   },
   "outputs": [
    {
     "data": {
      "text/html": [
       "<div>\n",
       "<style scoped>\n",
       "    .dataframe tbody tr th:only-of-type {\n",
       "        vertical-align: middle;\n",
       "    }\n",
       "\n",
       "    .dataframe tbody tr th {\n",
       "        vertical-align: top;\n",
       "    }\n",
       "\n",
       "    .dataframe thead th {\n",
       "        text-align: right;\n",
       "    }\n",
       "</style>\n",
       "<table border=\"1\" class=\"dataframe\">\n",
       "  <thead>\n",
       "    <tr style=\"text-align: right;\">\n",
       "      <th></th>\n",
       "      <th>Entries_change</th>\n",
       "      <th>Exits_change</th>\n",
       "      <th>interval_code</th>\n",
       "      <th>weekday_code</th>\n",
       "    </tr>\n",
       "  </thead>\n",
       "  <tbody>\n",
       "    <tr>\n",
       "      <th>count</th>\n",
       "      <td>334922.000000</td>\n",
       "      <td>334922.000000</td>\n",
       "      <td>334922.000000</td>\n",
       "      <td>334922.000000</td>\n",
       "    </tr>\n",
       "    <tr>\n",
       "      <th>mean</th>\n",
       "      <td>392.086268</td>\n",
       "      <td>408.704621</td>\n",
       "      <td>2.413655</td>\n",
       "      <td>3.051902</td>\n",
       "    </tr>\n",
       "    <tr>\n",
       "      <th>std</th>\n",
       "      <td>391.988139</td>\n",
       "      <td>405.667757</td>\n",
       "      <td>1.738674</td>\n",
       "      <td>2.024624</td>\n",
       "    </tr>\n",
       "    <tr>\n",
       "      <th>min</th>\n",
       "      <td>0.000000</td>\n",
       "      <td>0.000000</td>\n",
       "      <td>0.000000</td>\n",
       "      <td>0.000000</td>\n",
       "    </tr>\n",
       "    <tr>\n",
       "      <th>25%</th>\n",
       "      <td>83.000000</td>\n",
       "      <td>98.000000</td>\n",
       "      <td>1.000000</td>\n",
       "      <td>1.000000</td>\n",
       "    </tr>\n",
       "    <tr>\n",
       "      <th>50%</th>\n",
       "      <td>263.000000</td>\n",
       "      <td>270.000000</td>\n",
       "      <td>2.000000</td>\n",
       "      <td>3.000000</td>\n",
       "    </tr>\n",
       "    <tr>\n",
       "      <th>75%</th>\n",
       "      <td>580.000000</td>\n",
       "      <td>592.000000</td>\n",
       "      <td>4.000000</td>\n",
       "      <td>5.000000</td>\n",
       "    </tr>\n",
       "    <tr>\n",
       "      <th>max</th>\n",
       "      <td>1815.000000</td>\n",
       "      <td>1868.000000</td>\n",
       "      <td>5.000000</td>\n",
       "      <td>6.000000</td>\n",
       "    </tr>\n",
       "  </tbody>\n",
       "</table>\n",
       "</div>"
      ],
      "text/plain": [
       "       Entries_change   Exits_change  interval_code   weekday_code\n",
       "count   334922.000000  334922.000000  334922.000000  334922.000000\n",
       "mean       392.086268     408.704621       2.413655       3.051902\n",
       "std        391.988139     405.667757       1.738674       2.024624\n",
       "min          0.000000       0.000000       0.000000       0.000000\n",
       "25%         83.000000      98.000000       1.000000       1.000000\n",
       "50%        263.000000     270.000000       2.000000       3.000000\n",
       "75%        580.000000     592.000000       4.000000       5.000000\n",
       "max       1815.000000    1868.000000       5.000000       6.000000"
      ]
     },
     "execution_count": 108,
     "metadata": {},
     "output_type": "execute_result"
    }
   ],
   "source": [
    "df2.describe()"
   ]
  },
  {
   "cell_type": "code",
   "execution_count": 105,
   "metadata": {
    "colab": {
     "base_uri": "https://localhost:8080/",
     "height": 297
    },
    "id": "pyhuMHuRJ8tn",
    "outputId": "a9320d6e-6bd6-42e0-aa23-6222c48725a3"
   },
   "outputs": [
    {
     "data": {
      "text/plain": [
       "<matplotlib.axes._subplots.AxesSubplot at 0x7f1b77725810>"
      ]
     },
     "execution_count": 105,
     "metadata": {},
     "output_type": "execute_result"
    },
    {
     "data": {
      "image/png": "[encoded data removed]",
      "text/plain": [
       "<Figure size 432x288 with 1 Axes>"
      ]
     },
     "metadata": {
      "needs_background": "light"
     },
     "output_type": "display_data"
    }
   ],
   "source": [
    "sns.boxplot(x=df2['Entries_change'])"
   ]
  },
  {
   "cell_type": "code",
   "execution_count": 106,
   "metadata": {
    "colab": {
     "base_uri": "https://localhost:8080/",
     "height": 297
    },
    "id": "-IORPo98KCaO",
    "outputId": "f1813747-abb4-4cb8-bc6e-b6e4643fe343"
   },
   "outputs": [
    {
     "data": {
      "text/plain": [
       "<matplotlib.axes._subplots.AxesSubplot at 0x7f1b8569c050>"
      ]
     },
     "execution_count": 106,
     "metadata": {},
     "output_type": "execute_result"
    },
    {
     "data": {
      "image/png": "[encoded data removed]",
      "text/plain": [
       "<Figure size 432x288 with 1 Axes>"
      ]
     },
     "metadata": {
      "needs_background": "light"
     },
     "output_type": "display_data"
    }
   ],
   "source": [
    "sns.boxplot(x=df2['Exits_change'])"
   ]
  },
  {
   "cell_type": "code",
   "execution_count": 55,
   "metadata": {
    "id": "iCWGRoiW6hMD"
   },
   "outputs": [],
   "source": [
    "outlierextract_columns1 = ['Entries_change']\n",
    "outlierextract_columns2 = ['Exits_change']\n",
    "# df1 = OutlierExtractor(outlierextract_columns1).fit_transform(df_station_del_na)"
   ]
  },
  {
   "cell_type": "code",
   "execution_count": 56,
   "metadata": {
    "colab": {
     "base_uri": "https://localhost:8080/"
    },
    "id": "pSgUiTbe91Oj",
    "outputId": "32cb9d27-5636-4f3a-df86-a3293019d74a"
   },
   "outputs": [
    {
     "data": {
      "text/plain": [
       "LocalOutlierFactor(algorithm='auto', contamination='auto', leaf_size=30,\n",
       "                   metric='minkowski', metric_params=None, n_jobs=None,\n",
       "                   n_neighbors=20, novelty=False, p=2)"
      ]
     },
     "execution_count": 56,
     "metadata": {},
     "output_type": "execute_result"
    }
   ],
   "source": [
    "X_ = np.asarray(df_station_del_na[outlierextract_columns1])\n",
    "lcf = LocalOutlierFactor()\n",
    "lcf.fit(X_)"
   ]
  },
  {
   "cell_type": "code",
   "execution_count": 57,
   "metadata": {
    "colab": {
     "base_uri": "https://localhost:8080/"
    },
    "id": "55Cs5eGgEKer",
    "outputId": "e112a95a-78ba-4adf-d2dd-0ae3830a2e8b"
   },
   "outputs": [
    {
     "data": {
      "text/plain": [
       "(380741,)"
      ]
     },
     "execution_count": 57,
     "metadata": {},
     "output_type": "execute_result"
    }
   ],
   "source": [
    "lcf.negative_outlier_factor_.shape"
   ]
  },
  {
   "cell_type": "code",
   "execution_count": 23,
   "metadata": {
    "colab": {
     "base_uri": "https://localhost:8080/"
    },
    "id": "7KNhbbJmDSVY",
    "outputId": "6ccaaad5-3200-492c-e7ea-3696d2802517"
   },
   "outputs": [
    {
     "data": {
      "text/plain": [
       "(380741, 6)"
      ]
     },
     "execution_count": 23,
     "metadata": {},
     "output_type": "execute_result"
    }
   ],
   "source": [
    "df_station_del_na.shape"
   ]
  },
  {
   "cell_type": "code",
   "execution_count": 78,
   "metadata": {
    "colab": {
     "base_uri": "https://localhost:8080/"
    },
    "id": "d6A-aDfg-LyN",
    "outputId": "df560038-fef4-4e33-9857-53424d8d1d92"
   },
   "outputs": [
    {
     "data": {
      "text/plain": [
       "(378546, 6)"
      ]
     },
     "execution_count": 78,
     "metadata": {},
     "output_type": "execute_result"
    }
   ],
   "source": [
    "df1 = df_station_del_na[lcf.negative_outlier_factor_ > -2.5]\n",
    "df1.shape"
   ]
  },
  {
   "cell_type": "code",
   "execution_count": null,
   "metadata": {
    "id": "OmPyrdwK9b5x"
   },
   "outputs": [],
   "source": [
    "df1.describe()"
   ]
  },
  {
   "cell_type": "code",
   "execution_count": 118,
   "metadata": {
    "colab": {
     "base_uri": "https://localhost:8080/"
    },
    "id": "dsKaAisZ6g9o",
    "outputId": "5c20866f-d391-483b-eb85-916af831444e"
   },
   "outputs": [
    {
     "name": "stdout",
     "output_type": "stream",
     "text": [
      "absl-py==0.12.0\n",
      "alabaster==0.7.12\n",
      "albumentations==0.1.12\n",
      "altair==4.1.0\n",
      "appdirs==1.4.4\n",
      "argcomplete==1.12.3\n",
      "argon2-cffi==21.1.0\n",
      "arviz==0.11.4\n",
      "astor==0.8.1\n",
      "astropy==4.3.1\n",
      "astunparse==1.6.3\n",
      "atari-py==0.2.9\n",
      "atomicwrites==1.4.0\n",
      "attrs==21.2.0\n",
      "audioread==2.1.9\n",
      "autograd==1.3\n",
      "Babel==2.9.1\n",
      "backcall==0.2.0\n",
      "beautifulsoup4==4.6.3\n",
      "bleach==4.1.0\n",
      "blis==0.4.1\n",
      "bokeh==2.3.3\n",
      "Bottleneck==1.3.2\n",
      "branca==0.4.2\n",
      "bs4==0.0.1\n",
      "CacheControl==0.12.6\n",
      "cached-property==1.5.2\n",
      "cachetools==4.2.4\n",
      "catalogue==1.0.0\n",
      "certifi==2021.5.30\n",
      "cffi==1.14.6\n",
      "cftime==1.5.1\n",
      "chardet==3.0.4\n",
      "charset-normalizer==2.0.6\n",
      "clang==5.0\n",
      "click==7.1.2\n",
      "cloudpickle==1.3.0\n",
      "cmake==3.12.0\n",
      "cmdstanpy==0.9.5\n",
      "colorcet==2.0.6\n",
      "colorlover==0.3.0\n",
      "community==1.0.0b1\n",
      "contextlib2==0.5.5\n",
      "convertdate==2.3.2\n",
      "coverage==3.7.1\n",
      "coveralls==0.5\n",
      "crcmod==1.7\n",
      "cufflinks==0.17.3\n",
      "cupy-cuda111==9.4.0\n",
      "cvxopt==1.2.7\n",
      "cvxpy==1.0.31\n",
      "cycler==0.10.0\n",
      "cymem==2.0.5\n",
      "Cython==0.29.24\n",
      "daft==0.0.4\n",
      "dask==2.12.0\n",
      "datascience==0.10.6\n",
      "debugpy==1.0.0\n",
      "decorator==4.4.2\n",
      "defusedxml==0.7.1\n",
      "descartes==1.1.0\n",
      "dill==0.3.4\n",
      "distributed==1.25.3\n",
      "dlib @ file:///dlib-19.18.0-cp37-cp37m-linux_x86_64.whl\n",
      "dm-tree==0.1.6\n",
      "docopt==0.6.2\n",
      "docutils==0.17.1\n",
      "dopamine-rl==1.0.5\n",
      "earthengine-api==0.1.284\n",
      "easydict==1.9\n",
      "ecos==2.0.7.post1\n",
      "editdistance==0.5.3\n",
      "en-core-web-sm @ https://github.com/explosion/spacy-models/releases/download/en_core_web_sm-2.2.5/en_core_web_sm-2.2.5.tar.gz\n",
      "entrypoints==0.3\n",
      "ephem==4.1\n",
      "et-xmlfile==1.1.0\n",
      "fa2==0.3.5\n",
      "fastai==1.0.61\n",
      "fastdtw==0.3.4\n",
      "fastprogress==1.0.0\n",
      "fastrlock==0.6\n",
      "fbprophet==0.7.1\n",
      "feather-format==0.4.1\n",
      "filelock==3.3.0\n",
      "firebase-admin==4.4.0\n",
      "fix-yahoo-finance==0.0.22\n",
      "Flask==1.1.4\n",
      "flatbuffers==1.12\n",
      "folium==0.8.3\n",
      "future==0.16.0\n",
      "gast==0.4.0\n",
      "GDAL==2.2.2\n",
      "gdown==3.6.4\n",
      "gensim==3.6.0\n",
      "geographiclib==1.52\n",
      "geopy==1.17.0\n",
      "gin-config==0.4.0\n",
      "glob2==0.7\n",
      "google==2.0.3\n",
      "google-api-core==1.26.3\n",
      "google-api-python-client==1.12.8\n",
      "google-auth==1.35.0\n",
      "google-auth-httplib2==0.0.4\n",
      "google-auth-oauthlib==0.4.6\n",
      "google-cloud-bigquery==1.21.0\n",
      "google-cloud-bigquery-storage==1.1.0\n",
      "google-cloud-core==1.0.3\n",
      "google-cloud-datastore==1.8.0\n",
      "google-cloud-firestore==1.7.0\n",
      "google-cloud-language==1.2.0\n",
      "google-cloud-storage==1.18.1\n",
      "google-cloud-translate==1.5.0\n",
      "google-colab @ file:///colabtools/dist/google-colab-1.0.0.tar.gz\n",
      "google-pasta==0.2.0\n",
      "google-resumable-media==0.4.1\n",
      "googleapis-common-protos==1.53.0\n",
      "googledrivedownloader==0.4\n",
      "graphviz==0.10.1\n",
      "greenlet==1.1.2\n",
      "grpcio==1.41.0\n",
      "gspread==3.0.1\n",
      "gspread-dataframe==3.0.8\n",
      "gym==0.17.3\n",
      "h5py==3.1.0\n",
      "HeapDict==1.0.1\n",
      "hijri-converter==2.2.2\n",
      "holidays==0.10.5.2\n",
      "holoviews==1.14.6\n",
      "html5lib==1.0.1\n",
      "httpimport==0.5.18\n",
      "httplib2==0.17.4\n",
      "httplib2shim==0.0.3\n",
      "humanize==0.5.1\n",
      "hyperopt==0.1.2\n",
      "ideep4py==2.0.0.post3\n",
      "idna==2.10\n",
      "imageio==2.4.1\n",
      "imagesize==1.2.0\n",
      "imbalanced-learn==0.4.3\n",
      "imblearn==0.0\n",
      "imgaug==0.2.9\n",
      "importlib-metadata==4.8.1\n",
      "importlib-resources==5.2.2\n",
      "imutils==0.5.4\n",
      "inflect==2.1.0\n",
      "iniconfig==1.1.1\n",
      "intel-openmp==2021.4.0\n",
      "intervaltree==2.1.0\n",
      "ipykernel==4.10.1\n",
      "ipython==5.5.0\n",
      "ipython-genutils==0.2.0\n",
      "ipython-sql==0.3.9\n",
      "ipywidgets==7.6.5\n",
      "itsdangerous==1.1.0\n",
      "jax==0.2.21\n",
      "jaxlib @ https://storage.googleapis.com/jax-releases/cuda111/jaxlib-0.1.71+cuda111-cp37-none-manylinux2010_x86_64.whl\n",
      "jdcal==1.4.1\n",
      "jedi==0.18.0\n",
      "jieba==0.42.1\n",
      "Jinja2==2.11.3\n",
      "joblib==1.0.1\n",
      "jpeg4py==0.1.4\n",
      "jsonschema==2.6.0\n",
      "jupyter==1.0.0\n",
      "jupyter-client==5.3.5\n",
      "jupyter-console==5.2.0\n",
      "jupyter-core==4.8.1\n",
      "jupyterlab-pygments==0.1.2\n",
      "jupyterlab-widgets==1.0.2\n",
      "kaggle==1.5.12\n",
      "kapre==0.3.5\n",
      "keras==2.6.0\n",
      "Keras-Preprocessing==1.1.2\n",
      "keras-vis==0.4.1\n",
      "kiwisolver==1.3.2\n",
      "korean-lunar-calendar==0.2.1\n",
      "librosa==0.8.1\n",
      "lightgbm==2.2.3\n",
      "llvmlite==0.34.0\n",
      "lmdb==0.99\n",
      "LunarCalendar==0.0.9\n",
      "lxml==4.2.6\n",
      "Markdown==3.3.4\n",
      "MarkupSafe==2.0.1\n",
      "matplotlib==3.2.2\n",
      "matplotlib-inline==0.1.3\n",
      "matplotlib-venn==0.11.6\n",
      "missingno==0.5.0\n",
      "mistune==0.8.4\n",
      "mizani==0.6.0\n",
      "mkl==2019.0\n",
      "mlxtend==0.14.0\n",
      "more-itertools==8.10.0\n",
      "moviepy==0.2.3.5\n",
      "mpmath==1.2.1\n",
      "msgpack==1.0.2\n",
      "multiprocess==0.70.12.2\n",
      "multitasking==0.0.9\n",
      "murmurhash==1.0.5\n",
      "music21==5.5.0\n",
      "natsort==5.5.0\n",
      "nbclient==0.5.4\n",
      "nbconvert==5.6.1\n",
      "nbformat==5.1.3\n",
      "nest-asyncio==1.5.1\n",
      "netCDF4==1.5.7\n",
      "networkx==2.6.3\n",
      "nibabel==3.0.2\n",
      "nltk==3.2.5\n",
      "notebook==5.3.1\n",
      "numba==0.51.2\n",
      "numexpr==2.7.3\n",
      "numpy==1.19.5\n",
      "nvidia-ml-py3==7.352.0\n",
      "oauth2client==4.1.3\n",
      "oauthlib==3.1.1\n",
      "okgrade==0.4.3\n",
      "opencv-contrib-python==4.1.2.30\n",
      "opencv-python==4.1.2.30\n",
      "openpyxl==2.5.9\n",
      "opt-einsum==3.3.0\n",
      "osqp==0.6.2.post0\n",
      "packaging==21.0\n",
      "palettable==3.3.0\n",
      "pandas==1.1.5\n",
      "pandas-datareader==0.9.0\n",
      "pandas-gbq==0.13.3\n",
      "pandas-profiling==1.4.1\n",
      "pandocfilters==1.5.0\n",
      "panel==0.12.1\n",
      "param==1.11.1\n",
      "parso==0.8.2\n",
      "pathlib==1.0.1\n",
      "patsy==0.5.2\n",
      "pep517==0.11.0\n",
      "pexpect==4.8.0\n",
      "pickleshare==0.7.5\n",
      "Pillow==7.1.2\n",
      "pip-tools==6.2.0\n",
      "plac==1.1.3\n",
      "plotly==4.4.1\n",
      "plotnine==0.6.0\n",
      "pluggy==0.7.1\n",
      "pooch==1.5.1\n",
      "portpicker==1.3.9\n",
      "prefetch-generator==1.0.1\n",
      "preshed==3.0.5\n",
      "prettytable==2.2.1\n",
      "progressbar2==3.38.0\n",
      "prometheus-client==0.11.0\n",
      "promise==2.3\n",
      "prompt-toolkit==1.0.18\n",
      "protobuf==3.17.3\n",
      "psutil==5.4.8\n",
      "psycopg2==2.7.6.1\n",
      "ptyprocess==0.7.0\n",
      "py==1.10.0\n",
      "pyarrow==3.0.0\n",
      "pyasn1==0.4.8\n",
      "pyasn1-modules==0.2.8\n",
      "pycocotools==2.0.2\n",
      "pycparser==2.20\n",
      "pyct==0.4.8\n",
      "pydata-google-auth==1.2.0\n",
      "pydot==1.3.0\n",
      "pydot-ng==2.0.0\n",
      "pydotplus==2.0.2\n",
      "PyDrive==1.3.1\n",
      "pyemd==0.5.1\n",
      "pyerfa==2.0.0\n",
      "pyglet==1.5.0\n",
      "Pygments==2.6.1\n",
      "pygobject==3.26.1\n",
      "pymc3==3.11.4\n",
      "PyMeeus==0.5.11\n",
      "pymongo==3.12.0\n",
      "pymystem3==0.2.0\n",
      "PyOpenGL==3.1.5\n",
      "pyparsing==2.4.7\n",
      "pyrsistent==0.18.0\n",
      "pysndfile==1.3.8\n",
      "PySocks==1.7.1\n",
      "pystan==2.19.1.1\n",
      "pytest==3.6.4\n",
      "python-apt==0.0.0\n",
      "python-chess==0.23.11\n",
      "python-dateutil==2.8.2\n",
      "python-louvain==0.15\n",
      "python-slugify==5.0.2\n",
      "python-utils==2.5.6\n",
      "pytz==2018.9\n",
      "pyviz-comms==2.1.0\n",
      "PyWavelets==1.1.1\n",
      "PyYAML==3.13\n",
      "pyzmq==22.3.0\n",
      "qdldl==0.1.5.post0\n",
      "qtconsole==5.1.1\n",
      "QtPy==1.11.2\n",
      "regex==2019.12.20\n",
      "requests==2.23.0\n",
      "requests-oauthlib==1.3.0\n",
      "resampy==0.2.2\n",
      "retrying==1.3.3\n",
      "rpy2==3.4.5\n",
      "rsa==4.7.2\n",
      "scikit-image==0.16.2\n",
      "scikit-learn==0.22.2.post1\n",
      "scipy==1.4.1\n",
      "screen-resolution-extra==0.0.0\n",
      "scs==2.1.4\n",
      "seaborn==0.11.2\n",
      "semver==2.13.0\n",
      "Send2Trash==1.8.0\n",
      "setuptools-git==1.2\n",
      "Shapely==1.7.1\n",
      "simplegeneric==0.8.1\n",
      "six==1.15.0\n",
      "sklearn==0.0\n",
      "sklearn-pandas==1.8.0\n",
      "smart-open==5.2.1\n",
      "snowballstemmer==2.1.0\n",
      "sortedcontainers==2.4.0\n",
      "SoundFile==0.10.3.post1\n",
      "spacy==2.2.4\n",
      "Sphinx==1.8.5\n",
      "sphinxcontrib-serializinghtml==1.1.5\n",
      "sphinxcontrib-websupport==1.2.4\n",
      "SQLAlchemy==1.4.25\n",
      "sqlparse==0.4.2\n",
      "srsly==1.0.5\n",
      "statsmodels==0.10.2\n",
      "sympy==1.7.1\n",
      "tables==3.4.4\n",
      "tabulate==0.8.9\n",
      "tblib==1.7.0\n",
      "tensorboard==2.6.0\n",
      "tensorboard-data-server==0.6.1\n",
      "tensorboard-plugin-wit==1.8.0\n",
      "tensorflow @ file:///tensorflow-2.6.0-cp37-cp37m-linux_x86_64.whl\n",
      "tensorflow-datasets==4.0.1\n",
      "tensorflow-estimator==2.6.0\n",
      "tensorflow-gcs-config==2.6.0\n",
      "tensorflow-hub==0.12.0\n",
      "tensorflow-metadata==1.2.0\n",
      "tensorflow-probability==0.14.1\n",
      "termcolor==1.1.0\n",
      "terminado==0.12.1\n",
      "testpath==0.5.0\n",
      "text-unidecode==1.3\n",
      "textblob==0.15.3\n",
      "Theano-PyMC==1.1.2\n",
      "thinc==7.4.0\n",
      "tifffile==2021.8.30\n",
      "toml==0.10.2\n",
      "tomli==1.2.1\n",
      "toolz==0.11.1\n",
      "torch @ https://download.pytorch.org/whl/cu111/torch-1.9.0%2Bcu111-cp37-cp37m-linux_x86_64.whl\n",
      "torchsummary==1.5.1\n",
      "torchtext==0.10.0\n",
      "torchvision @ https://download.pytorch.org/whl/cu111/torchvision-0.10.0%2Bcu111-cp37-cp37m-linux_x86_64.whl\n",
      "tornado==5.1.1\n",
      "tqdm==4.62.3\n",
      "traitlets==5.1.0\n",
      "tweepy==3.10.0\n",
      "typeguard==2.7.1\n",
      "typing-extensions==3.7.4.3\n",
      "tzlocal==1.5.1\n",
      "uritemplate==3.0.1\n",
      "urllib3==1.24.3\n",
      "vega-datasets==0.9.0\n",
      "wasabi==0.8.2\n",
      "wcwidth==0.2.5\n",
      "webencodings==0.5.1\n",
      "Werkzeug==1.0.1\n",
      "widgetsnbextension==3.5.1\n",
      "wordcloud==1.5.0\n",
      "wrapt==1.12.1\n",
      "xarray==0.18.2\n",
      "xgboost==0.90\n",
      "xkit==0.0.0\n",
      "xlrd==1.1.0\n",
      "xlwt==1.3.0\n",
      "yellowbrick==0.9.1\n",
      "zict==2.0.0\n",
      "zipp==3.6.0\n"
     ]
    }
   ],
   "source": [
    "!pip freeze"
   ]
  },
  {
   "cell_type": "code",
   "execution_count": null,
   "metadata": {
    "id": "noQeUB-D6gzs"
   },
   "outputs": [],
   "source": [
    "z = np.abs(stats.zscore(df_station_del_na[['Entries_change','Exits_change']]))"
   ]
  },
  {
   "cell_type": "code",
   "execution_count": null,
   "metadata": {
    "colab": {
     "base_uri": "https://localhost:8080/"
    },
    "id": "WCgGq_ZunVSO",
    "outputId": "62a013bb-99ba-4f7b-c65f-4feb17d24dd2"
   },
   "outputs": [
    {
     "data": {
      "text/plain": [
       "(5686,)"
      ]
     },
     "execution_count": 73,
     "metadata": {},
     "output_type": "execute_result"
    }
   ],
   "source": [
    "np.where(z>3)[0].shape"
   ]
  },
  {
   "cell_type": "code",
   "execution_count": null,
   "metadata": {
    "id": "rUDm0zNZiBsq"
   },
   "outputs": [],
   "source": [
    "drop_index = np.unique(np.where(z>3)[0])"
   ]
  },
  {
   "cell_type": "code",
   "execution_count": null,
   "metadata": {
    "id": "yHvJRXaziT34"
   },
   "outputs": [],
   "source": [
    "df_station_del_na.drop(labels=drop_index, axis=0, inplace=True)"
   ]
  },
  {
   "cell_type": "code",
   "execution_count": null,
   "metadata": {
    "id": "q284yaFh4Jye"
   },
   "outputs": [],
   "source": [
    "X_train, X_test, y_train, y_test = train_test_split(X, y, test_size=0.2, random_state=42)"
   ]
  },
  {
   "cell_type": "code",
   "execution_count": null,
   "metadata": {
    "colab": {
     "base_uri": "https://localhost:8080/"
    },
    "id": "Z_IZnfont10I",
    "outputId": "a0ed1b93-a914-4e34-d856-f78f3385436c"
   },
   "outputs": [
    {
     "data": {
      "text/plain": [
       "(304592, 4)"
      ]
     },
     "execution_count": 102,
     "metadata": {},
     "output_type": "execute_result"
    }
   ],
   "source": [
    "X_train.shape"
   ]
  },
  {
   "cell_type": "code",
   "execution_count": 114,
   "metadata": {
    "id": "ciT4M-MvJfyO"
   },
   "outputs": [],
   "source": [
    "categorical_columns = ['Station', 'interval_code', 'weekday_code']\n",
    "numeric_columns = ['Entries_change']\n",
    "y_colums = ['Exits_change']"
   ]
  },
  {
   "cell_type": "code",
   "execution_count": 113,
   "metadata": {
    "id": "G43KovrfZGW2"
   },
   "outputs": [],
   "source": [
    "features = ColumnTransformer([\n",
    "    ('categorical', OneHotEncoder(), categorical_columns),\n",
    "    # ('numeric', MaxAbsScaler(), numeric_columns)\n",
    "])\n",
    "\n",
    "est = Pipeline([\n",
    "    ('features', features),\n",
    "    # ('scaler', RobustScaler(with_centering=False)),\n",
    "    # ('regressor', RandomForestRegressor())\n",
    "    ('regressor', Ridge())\n",
    "])"
   ]
  },
  {
   "cell_type": "code",
   "execution_count": null,
   "metadata": {
    "id": "2PrcA-beuOei"
   },
   "outputs": [],
   "source": []
  },
  {
   "cell_type": "code",
   "execution_count": null,
   "metadata": {
    "id": "D3oFM7PduOXC"
   },
   "outputs": [],
   "source": []
  },
  {
   "cell_type": "code",
   "execution_count": 116,
   "metadata": {
    "id": "v7uxLi9LuOOr"
   },
   "outputs": [],
   "source": [
    "est.fit(df2[categorical_columns], df2[y_colums]);"
   ]
  },
  {
   "cell_type": "code",
   "execution_count": null,
   "metadata": {
    "id": "w8NWgmW4KH5m"
   },
   "outputs": [],
   "source": [
    "est.get_params()"
   ]
  },
  {
   "cell_type": "code",
   "execution_count": 117,
   "metadata": {
    "colab": {
     "base_uri": "https://localhost:8080/"
    },
    "id": "Opi_wWx-J2ht",
    "outputId": "03636726-aca4-41b5-f069-ffcebfcc7119"
   },
   "outputs": [
    {
     "data": {
      "text/plain": [
       "0.6003525333563653"
      ]
     },
     "execution_count": 117,
     "metadata": {},
     "output_type": "execute_result"
    }
   ],
   "source": [
    "est.score(df2[categorical_columns], df2[y_colums])"
   ]
  },
  {
   "cell_type": "code",
   "execution_count": null,
   "metadata": {
    "colab": {
     "base_uri": "https://localhost:8080/"
    },
    "id": "KwZxfzhC26yQ",
    "outputId": "b98264e8-5609-4b05-c35f-b0d3fa54a560"
   },
   "outputs": [
    {
     "data": {
      "text/plain": [
       "0.552385644419771"
      ]
     },
     "execution_count": 129,
     "metadata": {},
     "output_type": "execute_result"
    }
   ],
   "source": [
    "y_train_pred = est.predict(X_train)\n",
    "r2_score(y_true=y_train, y_pred=y_train_pred)"
   ]
  },
  {
   "cell_type": "code",
   "execution_count": null,
   "metadata": {
    "colab": {
     "background_save": true
    },
    "id": "TV1HgHj2J2XV",
    "outputId": "9233b3a4-9522-4164-9b9f-f984f7f5c6d6"
   },
   "outputs": [
    {
     "data": {
      "text/plain": [
       "-0.2847738319714901"
      ]
     },
     "execution_count": null,
     "metadata": {},
     "output_type": "execute_result"
    }
   ],
   "source": [
    "est.score(X_test[categorical_columns], y_test)"
   ]
  },
  {
   "cell_type": "code",
   "execution_count": null,
   "metadata": {
    "colab": {
     "base_uri": "https://localhost:8080/"
    },
    "id": "Gh7NBiuc3to-",
    "outputId": "3ce4a761-2fdb-4158-8f0c-7906f22975d9"
   },
   "outputs": [
    {
     "data": {
      "text/plain": [
       "-1.2213005772223284"
      ]
     },
     "execution_count": 130,
     "metadata": {},
     "output_type": "execute_result"
    }
   ],
   "source": [
    "y_test_pred = est.predict(X_test)\n",
    "r2_score(y_true=y_test, y_pred=y_test_pred)"
   ]
  },
  {
   "cell_type": "code",
   "execution_count": null,
   "metadata": {
    "id": "qwq31hOM3tdX"
   },
   "outputs": [],
   "source": []
  }
 ],
 "metadata": {
  "accelerator": "GPU",
  "colab": {
   "collapsed_sections": [],
   "name": "MTA_ML.ipynb",
   "provenance": []
  },
  "kernelspec": {
   "display_name": "Python 3",
   "language": "python",
   "name": "python3"
  },
  "language_info": {
   "codemirror_mode": {
    "name": "ipython",
    "version": 3
   },
   "file_extension": ".py",
   "mimetype": "text/x-python",
   "name": "python",
   "nbconvert_exporter": "python",
   "pygments_lexer": "ipython3",
   "version": "3.8.8"
  }
 },
 "nbformat": 4,
 "nbformat_minor": 1
}
