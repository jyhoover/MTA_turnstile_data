{
 "cells": [
  {
   "cell_type": "code",
   "execution_count": 1,
   "metadata": {
    "id": "4_YI1oqno1tA"
   },
   "outputs": [],
   "source": [
    "import pandas as pd\n",
    "# import geopandas\n",
    "import numpy as np\n",
    "from scipy import stats\n",
    "import matplotlib\n",
    "import matplotlib.pyplot as plt\n",
    "import seaborn as sns\n",
    "import folium\n",
    "import dill\n",
    "import re\n",
    "import time"
   ]
  },
  {
   "cell_type": "code",
   "execution_count": 81,
   "metadata": {
    "id": "c5h2_gOSZ1dY"
   },
   "outputs": [],
   "source": [
    "from sklearn.base import BaseEstimator, RegressorMixin, TransformerMixin\n",
    "from sklearn.compose import ColumnTransformer\n",
    "from sklearn.ensemble import RandomForestRegressor\n",
    "from sklearn.feature_extraction import DictVectorizer\n",
    "from sklearn.linear_model import Ridge\n",
    "from sklearn.metrics import accuracy_score, r2_score\n",
    "from sklearn.model_selection import train_test_split, GridSearchCV, RandomizedSearchCV\n",
    "from sklearn.neighbors import KNeighborsRegressor, LocalOutlierFactor\n",
    "from sklearn.pipeline import Pipeline, FeatureUnion,TransformerMixin\n",
    "from sklearn.preprocessing import PolynomialFeatures, OneHotEncoder, MaxAbsScaler, minmax_scale, StandardScaler, OrdinalEncoder \n",
    "from sklearn.preprocessing import RobustScaler, Normalizer, QuantileTransformer, PowerTransformer\n",
    "from sklearn.utils import shuffle\n",
    "from sklearn.utils.validation import check_X_y, check_array, check_is_fitted"
   ]
  },
  {
   "cell_type": "code",
   "execution_count": null,
   "metadata": {
    "id": "3gr-TLIYo12f"
   },
   "outputs": [],
   "source": [
    "df_station = dill.load(open(folder+'df_station.pkd', 'rb'))"
   ]
  },
  {
   "cell_type": "code",
   "execution_count": null,
   "metadata": {
    "id": "4qDEeRkmo2CZ"
   },
   "outputs": [],
   "source": [
    "df_station.reset_index(inplace=True)"
   ]
  },
  {
   "cell_type": "code",
   "execution_count": null,
   "metadata": {
    "id": "BrKoYYUZo2FZ"
   },
   "outputs": [],
   "source": [
    "df_station.drop(index=0,inplace=True)"
   ]
  },
  {
   "cell_type": "code",
   "execution_count": null,
   "metadata": {
    "id": "u2KB7nryTECV"
   },
   "outputs": [],
   "source": [
    "df_station.reset_index(drop=True,inplace=True)"
   ]
  },
  {
   "cell_type": "code",
   "execution_count": null,
   "metadata": {
    "id": "Dw6jn5r4o17r"
   },
   "outputs": [],
   "source": [
    "df_station_nan = df_station.loc[df_station.isnull().Entries_change]"
   ]
  },
  {
   "cell_type": "code",
   "execution_count": null,
   "metadata": {
    "id": "dXUZA-mUo2H4"
   },
   "outputs": [],
   "source": [
    "# i =300\n",
    "# df_station_nan.iloc[i:i+60]"
   ]
  },
  {
   "cell_type": "code",
   "execution_count": null,
   "metadata": {
    "id": "dX-i6MaqTfY1"
   },
   "outputs": [],
   "source": [
    "df_station_del_na = df_station.loc[~ df_station.isnull().Entries_change]"
   ]
  },
  {
   "cell_type": "code",
   "execution_count": null,
   "metadata": {
    "id": "wzvFAj07ZDFP"
   },
   "outputs": [],
   "source": [
    "df_station_del_na.drop(columns=['Entries_change_hourly','Exits_change_hourly'], inplace=True)"
   ]
  },
  {
   "cell_type": "code",
   "execution_count": null,
   "metadata": {
    "id": "LowLvRm5v5Q4"
   },
   "outputs": [],
   "source": [
    "def interval_code(row):\n",
    "    datepattern = '[0-9][0-9][0-9][0-9]-[0-9][0-9]-[0-9][0-9]'\n",
    "    if re.findall(pattern=datepattern+', ', string=str(row['Timegrp'])):\n",
    "        return 0\n",
    "    elif re.findall(pattern=datepattern+' 04:00:00, ', string=str(row['Timegrp'])):\n",
    "        return 1\n",
    "    elif re.findall(pattern=datepattern+' 08:00:00, ', string=str(row['Timegrp'])):\n",
    "        return 2\n",
    "    elif re.findall(pattern=datepattern+' 12:00:00, ', string=str(row['Timegrp'])):\n",
    "        return 3\n",
    "    elif re.findall(pattern=datepattern+' 16:00:00, ', string=str(row['Timegrp'])):\n",
    "        return 4\n",
    "    elif re.findall(pattern=datepattern+' 20:00:00, ', string=str(row['Timegrp'])):\n",
    "        return 5\n",
    "    return None"
   ]
  },
  {
   "cell_type": "code",
   "execution_count": null,
   "metadata": {
    "id": "kJQSkRlcpTQG"
   },
   "outputs": [],
   "source": [
    "df_station_del_na['interval_code'] = df_station_del_na.apply(lambda row: interval_code(row), axis=1)"
   ]
  },
  {
   "cell_type": "code",
   "execution_count": null,
   "metadata": {
    "id": "2MHpkVoS24th"
   },
   "outputs": [],
   "source": [
    "def weekday_code(row):\n",
    "    d = re.findall(pattern='(?<=\\()[0-9][0-9][0-9][0-9]-[0-9][0-9]-[0-9][0-9]', \n",
    "                   string=str(row['Timegrp']))\n",
    "    return pd.Timestamp(d[0]).weekday()"
   ]
  },
  {
   "cell_type": "code",
   "execution_count": null,
   "metadata": {
    "id": "kkXZ93Ic6MnX"
   },
   "outputs": [],
   "source": [
    "df_station_del_na['weekday_code'] = df_station_del_na.apply(lambda row: weekday_code(row), axis=1)"
   ]
  },
  {
   "cell_type": "code",
   "execution_count": null,
   "metadata": {
    "id": "dQzTIdSnzgH8"
   },
   "outputs": [],
   "source": [
    "df_station_del_na.head(7)"
   ]
  },
  {
   "cell_type": "code",
   "execution_count": null,
   "metadata": {
    "id": "ukZvlz_B8goF"
   },
   "outputs": [],
   "source": [
    "dill.dump(df_station_del_na, open(folder+'df_station_del_na.pkd', 'wb'))"
   ]
  },
  {
   "cell_type": "code",
   "execution_count": 4,
   "metadata": {
    "id": "9J7z_04LYMtB"
   },
   "outputs": [],
   "source": [
    "df_station_del_na = dill.load(open('df_station_del_na.pkd', 'rb'))"
   ]
  },
  {
   "cell_type": "code",
   "execution_count": 6,
   "metadata": {
    "id": "CHU1GFu9mXS0"
   },
   "outputs": [],
   "source": [
    "df_station_del_na.reset_index(drop=True,inplace=True)"
   ]
  },
  {
   "cell_type": "code",
   "execution_count": null,
   "metadata": {
    "id": "UpQmsHDq6hTs"
   },
   "outputs": [],
   "source": [
    "class OutlierExtractor(TransformerMixin):\n",
    "    def __init__(self, columns, **kwargs):\n",
    "        \"\"\"\n",
    "        Keyword Args:\n",
    "            neg_conf_val (float): The threshold for excluding samples with a lower\n",
    "               negative outlier factor.\n",
    "\n",
    "        Returns:\n",
    "            object: to be used as a transformer method as part of Pipeline()\n",
    "        \"\"\"\n",
    "        self.threshold = kwargs.pop('neg_conf_val', -10.0)\n",
    "        self.columns = columns\n",
    "        self.kwargs = kwargs\n",
    "    \n",
    "    def fit(self, *args, **kwargs):\n",
    "        return self\n",
    "\n",
    "    def transform(self, X, y=None):\n",
    "        \"\"\"\n",
    "        Returns:\n",
    "            ndarray: subsampled data\n",
    "        Notes:\n",
    "            X should be of shape (n_samples, n_features)\n",
    "        \"\"\"\n",
    "        X_ = np.asarray(X[self.columns])\n",
    "        y = np.asarray(y)\n",
    "        lcf = LocalOutlierFactor(**self.kwargs)\n",
    "        lcf.fit(X_)\n",
    "        return (X[lcf.negative_outlier_factor_ > self.threshold, :],\n",
    "                y[lcf.negative_outlier_factor_ > self.threshold])\n",
    "\n"
   ]
  },
  {
   "cell_type": "code",
   "execution_count": 80,
   "metadata": {
    "colab": {
     "base_uri": "https://localhost:8080/",
     "height": 297
    },
    "id": "Y_vNJnfXFl_b",
    "outputId": "f623328e-11e7-4bd9-80cc-019f323a1989"
   },
   "outputs": [
    {
     "data": {
      "text/plain": [
       "<matplotlib.axes._subplots.AxesSubplot at 0x7f1b843b41d0>"
      ]
     },
     "execution_count": 80,
     "metadata": {},
     "output_type": "execute_result"
    },
    {
     "data": {
      "image/png": "[encoded data removed]",
      "text/plain": [
       "<Figure size 432x288 with 1 Axes>"
      ]
     },
     "metadata": {
      "needs_background": "light"
     },
     "output_type": "display_data"
    }
   ],
   "source": [
    "sns.boxplot(x=df_station_del_na['Entries_change'])"
   ]
  },
  {
   "cell_type": "code",
   "execution_count": 50,
   "metadata": {
    "id": "2X6viay5GwGh"
   },
   "outputs": [],
   "source": [
    "q1 = df_station_del_na[['Entries_change', 'Exits_change']].quantile(0.25)\n",
    "q3 = df_station_del_na[['Entries_change', 'Exits_change']].quantile(0.75)\n",
    "IQR = q3- q1\n",
    "df2 = df_station_del_na[ \n",
    "                        (df_station_del_na['Entries_change'] < (q3['Entries_change'] + 1.5 * IQR['Entries_change'])) &\n",
    "                        (df_station_del_na['Exits_change'] < (q3['Exits_change'] + 1.5 * IQR['Exits_change']))]\n",
    "df2.reset_index(drop=True,inplace=True)"
   ]
  },
  {
   "cell_type": "code",
   "execution_count": 51,
   "metadata": {
    "colab": {
     "base_uri": "https://localhost:8080/",
     "height": 297
    },
    "id": "UAS2TYNJGv5X",
    "outputId": "f3a57cfc-c285-4cc7-8fa2-8b42d19aed7f"
   },
   "outputs": [
    {
     "data": {
      "text/html": [
       "<div>\n",
       "<style scoped>\n",
       "    .dataframe tbody tr th:only-of-type {\n",
       "        vertical-align: middle;\n",
       "    }\n",
       "\n",
       "    .dataframe tbody tr th {\n",
       "        vertical-align: top;\n",
       "    }\n",
       "\n",
       "    .dataframe thead th {\n",
       "        text-align: right;\n",
       "    }\n",
       "</style>\n",
       "<table border=\"1\" class=\"dataframe\">\n",
       "  <thead>\n",
       "    <tr style=\"text-align: right;\">\n",
       "      <th></th>\n",
       "      <th>Entries_change</th>\n",
       "      <th>Exits_change</th>\n",
       "      <th>interval_code</th>\n",
       "      <th>weekday_code</th>\n",
       "    </tr>\n",
       "  </thead>\n",
       "  <tbody>\n",
       "    <tr>\n",
       "      <th>count</th>\n",
       "      <td>334922.000000</td>\n",
       "      <td>334922.000000</td>\n",
       "      <td>334922.000000</td>\n",
       "      <td>334922.000000</td>\n",
       "    </tr>\n",
       "    <tr>\n",
       "      <th>mean</th>\n",
       "      <td>392.086268</td>\n",
       "      <td>408.704621</td>\n",
       "      <td>2.413655</td>\n",
       "      <td>3.051902</td>\n",
       "    </tr>\n",
       "    <tr>\n",
       "      <th>std</th>\n",
       "      <td>391.988139</td>\n",
       "      <td>405.667757</td>\n",
       "      <td>1.738674</td>\n",
       "      <td>2.024624</td>\n",
       "    </tr>\n",
       "    <tr>\n",
       "      <th>min</th>\n",
       "      <td>0.000000</td>\n",
       "      <td>0.000000</td>\n",
       "      <td>0.000000</td>\n",
       "      <td>0.000000</td>\n",
       "    </tr>\n",
       "    <tr>\n",
       "      <th>25%</th>\n",
       "      <td>83.000000</td>\n",
       "      <td>98.000000</td>\n",
       "      <td>1.000000</td>\n",
       "      <td>1.000000</td>\n",
       "    </tr>\n",
       "    <tr>\n",
       "      <th>50%</th>\n",
       "      <td>263.000000</td>\n",
       "      <td>270.000000</td>\n",
       "      <td>2.000000</td>\n",
       "      <td>3.000000</td>\n",
       "    </tr>\n",
       "    <tr>\n",
       "      <th>75%</th>\n",
       "      <td>580.000000</td>\n",
       "      <td>592.000000</td>\n",
       "      <td>4.000000</td>\n",
       "      <td>5.000000</td>\n",
       "    </tr>\n",
       "    <tr>\n",
       "      <th>max</th>\n",
       "      <td>1815.000000</td>\n",
       "      <td>1868.000000</td>\n",
       "      <td>5.000000</td>\n",
       "      <td>6.000000</td>\n",
       "    </tr>\n",
       "  </tbody>\n",
       "</table>\n",
       "</div>"
      ],
      "text/plain": [
       "       Entries_change   Exits_change  interval_code   weekday_code\n",
       "count   334922.000000  334922.000000  334922.000000  334922.000000\n",
       "mean       392.086268     408.704621       2.413655       3.051902\n",
       "std        391.988139     405.667757       1.738674       2.024624\n",
       "min          0.000000       0.000000       0.000000       0.000000\n",
       "25%         83.000000      98.000000       1.000000       1.000000\n",
       "50%        263.000000     270.000000       2.000000       3.000000\n",
       "75%        580.000000     592.000000       4.000000       5.000000\n",
       "max       1815.000000    1868.000000       5.000000       6.000000"
      ]
     },
     "execution_count": 51,
     "metadata": {},
     "output_type": "execute_result"
    }
   ],
   "source": [
    "df2.describe()"
   ]
  },
  {
   "cell_type": "code",
   "execution_count": 52,
   "metadata": {
    "colab": {
     "base_uri": "https://localhost:8080/",
     "height": 297
    },
    "id": "pyhuMHuRJ8tn",
    "outputId": "a9320d6e-6bd6-42e0-aa23-6222c48725a3",
    "scrolled": true
   },
   "outputs": [
    {
     "data": {
      "text/plain": [
       "<AxesSubplot:xlabel='Entries_change'>"
      ]
     },
     "execution_count": 52,
     "metadata": {},
     "output_type": "execute_result"
    },
    {
     "data": {
      "image/png": "[encoded data removed]",
      "text/plain": [
       "<Figure size 432x288 with 1 Axes>"
      ]
     },
     "metadata": {
      "needs_background": "light"
     },
     "output_type": "display_data"
    }
   ],
   "source": [
    "sns.boxplot(x=df2['Entries_change'])"
   ]
  },
  {
   "cell_type": "code",
   "execution_count": 106,
   "metadata": {
    "colab": {
     "base_uri": "https://localhost:8080/",
     "height": 297
    },
    "id": "-IORPo98KCaO",
    "outputId": "f1813747-abb4-4cb8-bc6e-b6e4643fe343",
    "scrolled": true
   },
   "outputs": [
    {
     "data": {
      "text/plain": [
       "<matplotlib.axes._subplots.AxesSubplot at 0x7f1b8569c050>"
      ]
     },
     "execution_count": 106,
     "metadata": {},
     "output_type": "execute_result"
    },
    {
     "data": {
      "image/png": "[encoded data removed]",
      "text/plain": [
       "<Figure size 432x288 with 1 Axes>"
      ]
     },
     "metadata": {
      "needs_background": "light"
     },
     "output_type": "display_data"
    }
   ],
   "source": [
    "sns.boxplot(x=df2['Exits_change'])"
   ]
  },
  {
   "cell_type": "code",
   "execution_count": 10,
   "metadata": {
    "id": "s9VKl6y4G0o9"
   },
   "outputs": [],
   "source": [
    "X = df2[['Station', 'interval_code', 'weekday_code']]\n",
    "y = df2['Exits_change']"
   ]
  },
  {
   "cell_type": "code",
   "execution_count": 55,
   "metadata": {
    "id": "iCWGRoiW6hMD"
   },
   "outputs": [],
   "source": [
    "outlierextract_columns1 = ['Entries_change']\n",
    "outlierextract_columns2 = ['Exits_change']\n",
    "# df1 = OutlierExtractor(outlierextract_columns1).fit_transform(df_station_del_na)"
   ]
  },
  {
   "cell_type": "code",
   "execution_count": 56,
   "metadata": {
    "colab": {
     "base_uri": "https://localhost:8080/"
    },
    "id": "pSgUiTbe91Oj",
    "outputId": "32cb9d27-5636-4f3a-df86-a3293019d74a"
   },
   "outputs": [
    {
     "data": {
      "text/plain": [
       "LocalOutlierFactor(algorithm='auto', contamination='auto', leaf_size=30,\n",
       "                   metric='minkowski', metric_params=None, n_jobs=None,\n",
       "                   n_neighbors=20, novelty=False, p=2)"
      ]
     },
     "execution_count": 56,
     "metadata": {},
     "output_type": "execute_result"
    }
   ],
   "source": [
    "X_ = np.asarray(df_station_del_na[outlierextract_columns1])\n",
    "lcf = LocalOutlierFactor()\n",
    "lcf.fit(X_)"
   ]
  },
  {
   "cell_type": "code",
   "execution_count": 57,
   "metadata": {
    "colab": {
     "base_uri": "https://localhost:8080/"
    },
    "id": "55Cs5eGgEKer",
    "outputId": "e112a95a-78ba-4adf-d2dd-0ae3830a2e8b"
   },
   "outputs": [
    {
     "data": {
      "text/plain": [
       "(380741,)"
      ]
     },
     "execution_count": 57,
     "metadata": {},
     "output_type": "execute_result"
    }
   ],
   "source": [
    "lcf.negative_outlier_factor_.shape"
   ]
  },
  {
   "cell_type": "code",
   "execution_count": 23,
   "metadata": {
    "colab": {
     "base_uri": "https://localhost:8080/"
    },
    "id": "7KNhbbJmDSVY",
    "outputId": "6ccaaad5-3200-492c-e7ea-3696d2802517"
   },
   "outputs": [
    {
     "data": {
      "text/plain": [
       "(380741, 6)"
      ]
     },
     "execution_count": 23,
     "metadata": {},
     "output_type": "execute_result"
    }
   ],
   "source": [
    "df_station_del_na.shape"
   ]
  },
  {
   "cell_type": "code",
   "execution_count": 78,
   "metadata": {
    "colab": {
     "base_uri": "https://localhost:8080/"
    },
    "id": "d6A-aDfg-LyN",
    "outputId": "df560038-fef4-4e33-9857-53424d8d1d92"
   },
   "outputs": [
    {
     "data": {
      "text/plain": [
       "(378546, 6)"
      ]
     },
     "execution_count": 78,
     "metadata": {},
     "output_type": "execute_result"
    }
   ],
   "source": [
    "df1 = df_station_del_na[lcf.negative_outlier_factor_ > -2.5]\n",
    "df1.shape"
   ]
  },
  {
   "cell_type": "code",
   "execution_count": null,
   "metadata": {
    "id": "OmPyrdwK9b5x"
   },
   "outputs": [],
   "source": [
    "df1.describe()"
   ]
  },
  {
   "cell_type": "code",
   "execution_count": null,
   "metadata": {
    "id": "noQeUB-D6gzs"
   },
   "outputs": [],
   "source": [
    "z = np.abs(stats.zscore(df_station_del_na[['Entries_change','Exits_change']]))"
   ]
  },
  {
   "cell_type": "code",
   "execution_count": null,
   "metadata": {
    "colab": {
     "base_uri": "https://localhost:8080/"
    },
    "id": "WCgGq_ZunVSO",
    "outputId": "62a013bb-99ba-4f7b-c65f-4feb17d24dd2"
   },
   "outputs": [
    {
     "data": {
      "text/plain": [
       "(5686,)"
      ]
     },
     "execution_count": 73,
     "metadata": {},
     "output_type": "execute_result"
    }
   ],
   "source": [
    "np.where(z>3)[0].shape"
   ]
  },
  {
   "cell_type": "code",
   "execution_count": null,
   "metadata": {
    "id": "rUDm0zNZiBsq"
   },
   "outputs": [],
   "source": [
    "drop_index = np.unique(np.where(z>3)[0])"
   ]
  },
  {
   "cell_type": "code",
   "execution_count": null,
   "metadata": {
    "id": "yHvJRXaziT34"
   },
   "outputs": [],
   "source": [
    "df_station_del_na.drop(labels=drop_index, axis=0, inplace=True)"
   ]
  },
  {
   "cell_type": "code",
   "execution_count": 11,
   "metadata": {
    "id": "q284yaFh4Jye"
   },
   "outputs": [],
   "source": [
    "X_train, X_test, y_train, y_test = train_test_split(X, y, test_size=0.2, random_state=42)"
   ]
  },
  {
   "cell_type": "code",
   "execution_count": 12,
   "metadata": {
    "colab": {
     "base_uri": "https://localhost:8080/"
    },
    "id": "Z_IZnfont10I",
    "outputId": "a0ed1b93-a914-4e34-d856-f78f3385436c"
   },
   "outputs": [
    {
     "data": {
      "text/plain": [
       "(267937, 3)"
      ]
     },
     "execution_count": 12,
     "metadata": {},
     "output_type": "execute_result"
    }
   ],
   "source": [
    "X_train.shape"
   ]
  },
  {
   "cell_type": "code",
   "execution_count": 13,
   "metadata": {
    "id": "ciT4M-MvJfyO"
   },
   "outputs": [],
   "source": [
    "categorical_columns = ['Station', 'interval_code', 'weekday_code']\n",
    "numeric_columns = ['Entries_change']\n",
    "y_colums = ['Exits_change']"
   ]
  },
  {
   "cell_type": "code",
   "execution_count": 14,
   "metadata": {
    "id": "G43KovrfZGW2"
   },
   "outputs": [],
   "source": [
    "features = ColumnTransformer([\n",
    "    ('categorical', OneHotEncoder(), categorical_columns),\n",
    "    # ('numeric', MaxAbsScaler(), numeric_columns)\n",
    "])\n",
    "\n",
    "est = Pipeline([\n",
    "    ('features', features),\n",
    "    # ('scaler', RobustScaler(with_centering=False)),\n",
    "    # ('regressor', RandomForestRegressor())\n",
    "    ('regressor', Ridge())\n",
    "])"
   ]
  },
  {
   "cell_type": "code",
   "execution_count": null,
   "metadata": {
    "id": "2PrcA-beuOei"
   },
   "outputs": [],
   "source": []
  },
  {
   "cell_type": "code",
   "execution_count": null,
   "metadata": {
    "id": "D3oFM7PduOXC"
   },
   "outputs": [],
   "source": []
  },
  {
   "cell_type": "code",
   "execution_count": 19,
   "metadata": {
    "id": "v7uxLi9LuOOr"
   },
   "outputs": [],
   "source": [
    "est.fit(X_train,  y_train);"
   ]
  },
  {
   "cell_type": "code",
   "execution_count": null,
   "metadata": {
    "id": "w8NWgmW4KH5m"
   },
   "outputs": [],
   "source": [
    "est.get_params()"
   ]
  },
  {
   "cell_type": "code",
   "execution_count": 16,
   "metadata": {
    "colab": {
     "base_uri": "https://localhost:8080/"
    },
    "id": "Opi_wWx-J2ht",
    "outputId": "03636726-aca4-41b5-f069-ffcebfcc7119"
   },
   "outputs": [
    {
     "data": {
      "text/plain": [
       "0.6005702267743751"
      ]
     },
     "execution_count": 16,
     "metadata": {},
     "output_type": "execute_result"
    }
   ],
   "source": [
    "est.score(X_train,  y_train)"
   ]
  },
  {
   "cell_type": "code",
   "execution_count": 104,
   "metadata": {},
   "outputs": [
    {
     "data": {
      "text/plain": [
       "Station          42 ST-BRYANT PK\n",
       "interval_code                  2\n",
       "weekday_code                   5\n",
       "Name: 68088, dtype: object"
      ]
     },
     "execution_count": 104,
     "metadata": {},
     "output_type": "execute_result"
    }
   ],
   "source": [
    "X_train.iloc[0]"
   ]
  },
  {
   "cell_type": "code",
   "execution_count": 20,
   "metadata": {
    "colab": {
     "base_uri": "https://localhost:8080/"
    },
    "id": "KwZxfzhC26yQ",
    "outputId": "b98264e8-5609-4b05-c35f-b0d3fa54a560"
   },
   "outputs": [
    {
     "data": {
      "text/plain": [
       "0.6005702267743751"
      ]
     },
     "execution_count": 20,
     "metadata": {},
     "output_type": "execute_result"
    }
   ],
   "source": [
    "y_train_pred = est.predict(X_train)\n",
    "r2_score(y_true=y_train, y_pred=y_train_pred)"
   ]
  },
  {
   "cell_type": "code",
   "execution_count": 17,
   "metadata": {
    "colab": {
     "background_save": true
    },
    "id": "TV1HgHj2J2XV",
    "outputId": "9233b3a4-9522-4164-9b9f-f984f7f5c6d6"
   },
   "outputs": [
    {
     "data": {
      "text/plain": [
       "0.598897223916298"
      ]
     },
     "execution_count": 17,
     "metadata": {},
     "output_type": "execute_result"
    }
   ],
   "source": [
    "est.score(X_test, y_test)"
   ]
  },
  {
   "cell_type": "code",
   "execution_count": null,
   "metadata": {
    "colab": {
     "base_uri": "https://localhost:8080/"
    },
    "id": "Gh7NBiuc3to-",
    "outputId": "3ce4a761-2fdb-4158-8f0c-7906f22975d9"
   },
   "outputs": [
    {
     "data": {
      "text/plain": [
       "-1.2213005772223284"
      ]
     },
     "execution_count": 130,
     "metadata": {},
     "output_type": "execute_result"
    }
   ],
   "source": [
    "y_test_pred = est.predict(X_test)\n",
    "r2_score(y_true=y_test, y_pred=y_test_pred)"
   ]
  },
  {
   "cell_type": "code",
   "execution_count": 18,
   "metadata": {
    "id": "qwq31hOM3tdX"
   },
   "outputs": [],
   "source": [
    "with open('est_onehot_ridge.dill', 'wb') as f:\n",
    "    dill.dump(est, f)"
   ]
  },
  {
   "cell_type": "code",
   "execution_count": 92,
   "metadata": {},
   "outputs": [],
   "source": [
    "station_embed = OneHotEncoder()\n",
    "station_trans = station_embed.fit_transform(pd.DataFrame(df2['Station'].str.lower()))"
   ]
  },
  {
   "cell_type": "code",
   "execution_count": 54,
   "metadata": {},
   "outputs": [
    {
     "data": {
      "text/plain": [
       "(334922, 379)"
      ]
     },
     "execution_count": 54,
     "metadata": {},
     "output_type": "execute_result"
    }
   ],
   "source": [
    "station_trans.toarray().shape"
   ]
  },
  {
   "cell_type": "code",
   "execution_count": 55,
   "metadata": {},
   "outputs": [],
   "source": [
    "station_back = station_embed.inverse_transform(station_trans)"
   ]
  },
  {
   "cell_type": "code",
   "execution_count": 93,
   "metadata": {},
   "outputs": [
    {
     "data": {
      "text/plain": [
       "array([['138/grand conc']], dtype=object)"
      ]
     },
     "execution_count": 93,
     "metadata": {},
     "output_type": "execute_result"
    }
   ],
   "source": [
    "test_station_onehot = np.zeros((1,379))\n",
    "test_station_onehot[0][12] = 1\n",
    "station_embed.inverse_transform(test_station_onehot)"
   ]
  },
  {
   "cell_type": "code",
   "execution_count": 94,
   "metadata": {},
   "outputs": [],
   "source": [
    "with open('station_embed.dill', 'wb') as f:\n",
    "    dill.dump(station_embed, f)"
   ]
  },
  {
   "cell_type": "code",
   "execution_count": 112,
   "metadata": {},
   "outputs": [],
   "source": [
    "station_name = df2['Station'].unique()"
   ]
  },
  {
   "cell_type": "code",
   "execution_count": 113,
   "metadata": {},
   "outputs": [],
   "source": [
    "with open('station_name.dill', 'wb') as f:\n",
    "    dill.dump(station_name, f)"
   ]
  },
  {
   "cell_type": "code",
   "execution_count": 98,
   "metadata": {
    "scrolled": true
   },
   "outputs": [
    {
     "data": {
      "text/plain": [
       "(1, 392)"
      ]
     },
     "execution_count": 98,
     "metadata": {},
     "output_type": "execute_result"
    }
   ],
   "source": [
    "datearray = np.zeros((1, 7))\n",
    "datearray[0][0] = 1\n",
    "intervalarray = np.zeros((1, 6))\n",
    "intervalarray[0][0] = 1\n",
    "station_count = 379\n",
    "stationarray = np.zeros((1, station_count))\n",
    "stationarray[0][0] = 1\n",
    "newarray = np.concatenate((datearray,intervalarray,stationarray), axis=1)\n",
    "newarray.shape"
   ]
  },
  {
   "cell_type": "code",
   "execution_count": 114,
   "metadata": {
    "scrolled": true
   },
   "outputs": [
    {
     "data": {
      "text/plain": [
       "array(['1 AV', '103 ST', '103 ST-CORONA', '104 ST', '110 ST', '111 ST',\n",
       "       '116 ST', '116 ST-COLUMBIA', '121 ST', '125 ST', '135 ST',\n",
       "       '137 ST CITY COL', '138/GRAND CONC', '14 ST', '14 ST-UNION SQ',\n",
       "       '145 ST', '149/GRAND CONC', '14TH STREET', '15 ST-PROSPECT',\n",
       "       '155 ST', '157 ST', '161/YANKEE STAD', '163 ST-AMSTERDM', '167 ST',\n",
       "       '168 ST', '169 ST', '170 ST', '174 ST', '174-175 STS', '175 ST',\n",
       "       '176 ST', '18 AV', '18 ST', '181 ST', '182-183 STS', '183 ST',\n",
       "       '190 ST', '191 ST', '2 AV', '20 AV', '207 ST', '21 ST',\n",
       "       '21 ST-QNSBRIDGE', '215 ST', '219 ST', '225 ST', '23 ST', '231 ST',\n",
       "       '233 ST', '238 ST', '25 AV', '25 ST', '28 ST', '3 AV',\n",
       "       '3 AV 138 ST', '3 AV-149 ST', '30 AV', '33 ST', '33 ST-RAWSON ST',\n",
       "       '34 ST-HERALD SQ', '34 ST-HUDSON YD', '34 ST-PENN STA', '36 AV',\n",
       "       '36 ST', '39 AV', '4 AV-9 ST', '40 ST LOWERY ST',\n",
       "       '42 ST-BRYANT PK', '42 ST-PORT AUTH', '45 ST', '46 ST',\n",
       "       '46 ST BLISS ST', '47-50 STS ROCK', '49 ST', '4AV-9 ST',\n",
       "       '5 AV/53 ST', '5 AV/59 ST', '5 AVE', '50 ST', '51 ST', '52 ST',\n",
       "       '53 ST', '55 ST', '57 ST', '57 ST-7 AV', '59 ST', '59 ST COLUMBUS',\n",
       "       '6 AV', '61 ST WOODSIDE', '63 DR-REGO PARK', '65 ST',\n",
       "       '66 ST-LINCOLN', '67 AV', '68ST-HUNTER CO', '69 ST', '7 AV',\n",
       "       '71 ST', '72 ST', '72 ST-2 AVE', '74 ST-BROADWAY', '75 AV',\n",
       "       '75 ST-ELDERTS', '77 ST', '79 ST', '8 AV', '8 ST-NYU', '80 ST',\n",
       "       '81 ST-MUSEUM', '82 ST-JACKSON H', '85 ST-FOREST PK', '86 ST',\n",
       "       '86 ST-2 AVE', '88 ST', '9 AV', '90 ST-ELMHURST', '96 ST',\n",
       "       '96 ST-2 AVE', '9TH STREET', 'ALABAMA AV', 'ALLERTON AV',\n",
       "       'AQUEDUCT N.COND', 'AQUEDUCT RACETR', 'ASTOR PL', 'ASTORIA BLVD',\n",
       "       'ASTORIA DITMARS', 'ATL AV-BARCLAY', 'ATLANTIC AV', 'AVENUE H',\n",
       "       'AVENUE I', 'AVENUE J', 'AVENUE M', 'AVENUE N', 'AVENUE P',\n",
       "       'AVENUE U', 'AVENUE X', \"B'WAY-LAFAYETTE\", 'BAY 50 ST', 'BAY PKWY',\n",
       "       'BAY RIDGE AV', 'BAY RIDGE-95 ST', 'BAYCHESTER AV', 'BEACH 105 ST',\n",
       "       'BEACH 25 ST', 'BEACH 36 ST', 'BEACH 44 ST', 'BEACH 60 ST',\n",
       "       'BEACH 67 ST', 'BEACH 90 ST', 'BEACH 98 ST', 'BEDFORD AV',\n",
       "       'BEDFORD PK BLVD', 'BEDFORD-NOSTRAN', 'BERGEN ST', 'BEVERLEY ROAD',\n",
       "       'BEVERLY RD', 'BLEECKER ST', 'BOROUGH HALL', 'BOTANIC GARDEN',\n",
       "       'BOWERY', 'BOWLING GREEN', 'BRIARWOOD', 'BRIGHTON BEACH',\n",
       "       'BROAD CHANNEL', 'BROAD ST', 'BROADWAY', 'BROADWAY JCT',\n",
       "       'BRONX PARK EAST', 'BROOK AV', 'BROOKLYN BRIDGE', 'BUHRE AV',\n",
       "       'BURKE AV', 'BURNSIDE AV', 'BUSHWICK AV', 'CANAL ST',\n",
       "       'CANARSIE-ROCKAW', 'CARROLL ST', 'CASTLE HILL AV',\n",
       "       'CATHEDRAL PKWY', 'CENTRAL AV', 'CENTRAL PK N110', 'CHAMBERS ST',\n",
       "       'CHAUNCEY ST', 'CHRISTOPHER ST', 'CHURCH AV', 'CITY / BUS',\n",
       "       'CITY HALL', 'CLARK ST', 'CLASSON AV', 'CLEVELAND ST',\n",
       "       'CLINTON-WASH AV', 'CONEY IS-STILLW', 'CORTELYOU RD',\n",
       "       'CORTLANDT ST', 'COURT SQ', 'COURT SQ-23 ST', 'CRESCENT ST',\n",
       "       'CROWN HTS-UTICA', 'CYPRESS AV', 'CYPRESS HILLS', 'DEKALB AV',\n",
       "       'DELANCEY/ESSEX', 'DITMAS AV', 'DYCKMAN ST', \"E 143/ST MARY'S\",\n",
       "       'E 149 ST', 'E 180 ST', 'EAST 105 ST', 'EAST BROADWAY',\n",
       "       'EASTCHSTER/DYRE', 'EASTN PKWY-MUSM', 'ELDER AV', 'ELMHURST AV',\n",
       "       'EUCLID AV', 'EXCHANGE PLACE', 'FAR ROCKAWAY', 'FLATBUSH AV-B.C',\n",
       "       'FLUSHING AV', 'FLUSHING-MAIN', 'FORDHAM RD', 'FOREST AVE',\n",
       "       'FOREST HILLS 71', 'FRANKLIN AV', 'FRANKLIN ST', 'FREEMAN ST',\n",
       "       'FRESH POND RD', 'FT HAMILTON PKY', 'FULTON ST', 'GATES AV',\n",
       "       'GRAHAM AV', 'GRAND ARMY PLAZ', 'GRAND ST', 'GRAND-NEWTOWN',\n",
       "       'GRANT AV', 'GRD CNTRL-42 ST', 'GREENPOINT AV', 'GROVE STREET',\n",
       "       'GUN HILL RD', 'HALSEY ST', 'HARLEM 148 ST', 'HARRISON',\n",
       "       'HEWES ST', 'HIGH ST', 'HOUSTON ST', 'HOWARD BCH JFK', 'HOYT ST',\n",
       "       'HOYT-SCHER', 'HUNTERS PT AV', 'HUNTS POINT AV', 'INTERVALE AV',\n",
       "       'INWOOD-207 ST', 'JACKSON AV', 'JAMAICA 179 ST', 'JAMAICA CENTER',\n",
       "       'JAMAICA VAN WK', 'JAY ST-METROTEC', 'JEFFERSON ST',\n",
       "       'JFK JAMAICA CT1', 'JKSN HT-ROOSVLT', 'JOURNAL SQUARE',\n",
       "       'JUNCTION BLVD', 'JUNIUS ST', 'KEW GARDENS', 'KINGS HWY',\n",
       "       'KINGSBRIDGE RD', 'KINGSTON AV', 'KINGSTON-THROOP',\n",
       "       'KNICKERBOCKER', 'KOSCIUSZKO ST', 'LACKAWANNA', 'LAFAYETTE AV',\n",
       "       'LEXINGTON AV/53', 'LEXINGTON AV/63', 'LIBERTY AV', 'LIVONIA AV',\n",
       "       'LONGWOOD AV', 'LORIMER ST', 'MARBLE HILL-225', 'MARCY AV',\n",
       "       'METROPOLITAN AV', 'METS-WILLETS PT', 'MIDDLETOWN RD',\n",
       "       'MONTROSE AV', 'MORGAN AV', 'MORISN AV/SNDVW', 'MORRIS PARK',\n",
       "       'MOSHOLU PKWY', 'MT EDEN AV', 'MYRTLE AV', 'MYRTLE-WILLOUGH',\n",
       "       'MYRTLE-WYCKOFF', 'NASSAU AV', 'NECK RD', 'NEPTUNE AV',\n",
       "       'NEREID AV', 'NEVINS ST', 'NEW LOTS', 'NEW LOTS AV',\n",
       "       'NEW UTRECHT AV', 'NEWARK BM BW', 'NEWARK C', 'NEWARK HM HE',\n",
       "       'NEWARK HW BMEBE', 'NEWKIRK AV', 'NEWKIRK PLAZA', 'NORTHERN BLVD',\n",
       "       'NORWOOD 205 ST', 'NORWOOD AV', 'NOSTRAND AV', 'OCEAN PKWY',\n",
       "       'ORCHARD BEACH', 'OZONE PK LEFFRT', 'PARK PLACE', 'PARKCHESTER',\n",
       "       'PARKSIDE AV', 'PARSONS BLVD', 'PATH NEW WTC', 'PATH WTC 2',\n",
       "       'PAVONIA/NEWPORT', 'PELHAM BAY PARK', 'PELHAM PKWY',\n",
       "       'PENNSYLVANIA AV', 'PRESIDENT ST', 'PRINCE ST', 'PROSPECT AV',\n",
       "       'PROSPECT PARK', 'QUEENS PLAZA', 'QUEENSBORO PLZ', 'RALPH AV',\n",
       "       'RECTOR ST', 'RIT-MANHATTAN', 'RIT-ROOSEVELT', 'ROCKAWAY AV',\n",
       "       'ROCKAWAY BLVD', 'ROCKAWAY PARK B', 'ROOSEVELT ISLND',\n",
       "       'SARATOGA AV', 'SENECA AVE', 'SHEEPSHEAD BAY', 'SHEPHERD AV',\n",
       "       'SIMPSON ST', 'SMITH-9 ST', 'SOUTH FERRY', 'SPRING ST',\n",
       "       'ST LAWRENCE AV', 'ST. GEORGE', 'STEINWAY ST', 'STERLING ST',\n",
       "       'SUTPHIN BLVD', 'SUTPHIN-ARCHER', 'SUTTER AV', 'SUTTER AV-RUTLD',\n",
       "       'THIRTY ST', 'THIRTY THIRD ST', 'TIMES SQ-42 ST', 'TOMPKINSVILLE',\n",
       "       'TREMONT AV', 'TWENTY THIRD ST', 'UNION ST', 'UTICA AV',\n",
       "       'V.CORTLANDT PK', 'VAN SICLEN AV', 'VAN SICLEN AVE',\n",
       "       'VERNON-JACKSON', 'W 4 ST-WASH SQ', 'W 8 ST-AQUARIUM',\n",
       "       'WAKEFIELD/241', 'WALL ST', 'WEST FARMS SQ', 'WESTCHESTER SQ',\n",
       "       'WHITEHALL S-FRY', 'WHITLOCK AV', 'WILSON AV', 'WINTHROP ST',\n",
       "       'WOODHAVEN BLVD', 'WOODLAWN', 'WORLD TRADE CTR', 'WTC-CORTLANDT',\n",
       "       'YORK ST', 'ZEREGA AV'], dtype=object)"
      ]
     },
     "execution_count": 114,
     "metadata": {},
     "output_type": "execute_result"
    }
   ],
   "source": [
    "station_name"
   ]
  },
  {
   "cell_type": "code",
   "execution_count": 128,
   "metadata": {},
   "outputs": [],
   "source": [
    "testarray = pd.DataFrame([[station_name[0],5,2]], columns=X_train.columns)"
   ]
  },
  {
   "cell_type": "code",
   "execution_count": 132,
   "metadata": {},
   "outputs": [
    {
     "data": {
      "text/plain": [
       "Index(['Station', 'interval_code', 'weekday_code'], dtype='object')"
      ]
     },
     "execution_count": 132,
     "metadata": {},
     "output_type": "execute_result"
    }
   ],
   "source": [
    "X_train.columns"
   ]
  },
  {
   "cell_type": "code",
   "execution_count": 158,
   "metadata": {},
   "outputs": [
    {
     "data": {
      "text/plain": [
       "<function method.__subclasshook__>"
      ]
     },
     "execution_count": 158,
     "metadata": {},
     "output_type": "execute_result"
    }
   ],
   "source": [
    "est.named_steps['features'].get_feature_names.__subclasshook__"
   ]
  },
  {
   "cell_type": "code",
   "execution_count": null,
   "metadata": {},
   "outputs": [],
   "source": []
  }
 ],
 "metadata": {
  "accelerator": "GPU",
  "colab": {
   "collapsed_sections": [],
   "name": "MTA_ML.ipynb",
   "provenance": []
  },
  "kernelspec": {
   "display_name": "Python 3",
   "language": "python",
   "name": "python3"
  },
  "language_info": {
   "codemirror_mode": {
    "name": "ipython",
    "version": 3
   },
   "file_extension": ".py",
   "mimetype": "text/x-python",
   "name": "python",
   "nbconvert_exporter": "python",
   "pygments_lexer": "ipython3",
   "version": "3.8.8"
  }
 },
 "nbformat": 4,
 "nbformat_minor": 1
}
